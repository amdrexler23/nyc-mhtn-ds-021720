{
 "cells": [
  {
   "cell_type": "code",
   "execution_count": null,
   "metadata": {},
   "outputs": [],
   "source": [
    "# function vs method: \n",
    "# - method is a function that is defined in a class\n",
    "# class - a certain task/objective so we are bundling things together: attributes, variables\n",
    "# self refers to object that has yet to be created (future object)\n",
    "# when you create an \n",
    "# double underscore method search class definitions and still looks at the object first. should not define object as something before because you will overwrite. Not wanting to mess with\n",
    "# not same as instance method. instance method becomes part of object you create. not typically used. mostly used by engineers to \"check the plumbing\"\n",
    "# all the variables you want to initialize go at the end\n",
    "# init should be the first function always\n",
    "# can create 'parent' classes and 'child' classes"
   ]
  }
 ],
 "metadata": {
  "kernelspec": {
   "display_name": "Python 3",
   "language": "python",
   "name": "python3"
  },
  "language_info": {
   "codemirror_mode": {
    "name": "ipython",
    "version": 3
   },
   "file_extension": ".py",
   "mimetype": "text/x-python",
   "name": "python",
   "nbconvert_exporter": "python",
   "pygments_lexer": "ipython3",
   "version": "3.7.4"
  }
 },
 "nbformat": 4,
 "nbformat_minor": 4
}
